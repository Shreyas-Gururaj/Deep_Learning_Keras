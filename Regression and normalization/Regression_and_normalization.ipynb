{
 "cells": [
  {
   "cell_type": "markdown",
   "metadata": {},
   "source": [
    "# Regression: Boston Housing Price Dataset. Predicting a real number"
   ]
  },
  {
   "cell_type": "code",
   "execution_count": 1,
   "metadata": {},
   "outputs": [],
   "source": [
    "import tensorflow as tf\n",
    "from tensorflow.keras.datasets import boston_housing\n",
    "import matplotlib.pyplot as plt\n",
    "from tensorflow.keras import models\n",
    "from tensorflow.keras import layers"
   ]
  },
  {
   "cell_type": "code",
   "execution_count": 2,
   "metadata": {},
   "outputs": [],
   "source": [
    "(train_data, train_targets), (test_data, test_targets) = boston_housing.load_data()"
   ]
  },
  {
   "cell_type": "code",
   "execution_count": 3,
   "metadata": {},
   "outputs": [
    {
     "data": {
      "text/plain": [
       "(404, 13)"
      ]
     },
     "execution_count": 3,
     "metadata": {},
     "output_type": "execute_result"
    }
   ],
   "source": [
    "train_data.shape"
   ]
  },
  {
   "cell_type": "code",
   "execution_count": 4,
   "metadata": {},
   "outputs": [
    {
     "data": {
      "text/plain": [
       "(102, 13)"
      ]
     },
     "execution_count": 4,
     "metadata": {},
     "output_type": "execute_result"
    }
   ],
   "source": [
    "test_data.shape"
   ]
  },
  {
   "cell_type": "code",
   "execution_count": 5,
   "metadata": {},
   "outputs": [
    {
     "name": "stdout",
     "output_type": "stream",
     "text": [
      "[15.2 42.3 50.  21.1 17.7 18.5 11.3 15.6 15.6 14.4 12.1 17.9 23.1 19.9\n",
      " 15.7  8.8 50.  22.5 24.1 27.5 10.9 30.8 32.9 24.  18.5 13.3 22.9 34.7\n",
      " 16.6 17.5 22.3 16.1 14.9 23.1 34.9 25.  13.9 13.1 20.4 20.  15.2 24.7\n",
      " 22.2 16.7 12.7 15.6 18.4 21.  30.1 15.1 18.7  9.6 31.5 24.8 19.1 22.\n",
      " 14.5 11.  32.  29.4 20.3 24.4 14.6 19.5 14.1 14.3 15.6 10.5  6.3 19.3\n",
      " 19.3 13.4 36.4 17.8 13.5 16.5  8.3 14.3 16.  13.4 28.6 43.5 20.2 22.\n",
      " 23.  20.7 12.5 48.5 14.6 13.4 23.7 50.  21.7 39.8 38.7 22.2 34.9 22.5\n",
      " 31.1 28.7 46.  41.7 21.  26.6 15.  24.4 13.3 21.2 11.7 21.7 19.4 50.\n",
      " 22.8 19.7 24.7 36.2 14.2 18.9 18.3 20.6 24.6 18.2  8.7 44.  10.4 13.2\n",
      " 21.2 37.  30.7 22.9 20.  19.3 31.7 32.  23.1 18.8 10.9 50.  19.6  5.\n",
      " 14.4 19.8 13.8 19.6 23.9 24.5 25.  19.9 17.2 24.6 13.5 26.6 21.4 11.9\n",
      " 22.6 19.6  8.5 23.7 23.1 22.4 20.5 23.6 18.4 35.2 23.1 27.9 20.6 23.7\n",
      " 28.  13.6 27.1 23.6 20.6 18.2 21.7 17.1  8.4 25.3 13.8 22.2 18.4 20.7\n",
      " 31.6 30.5 20.3  8.8 19.2 19.4 23.1 23.  14.8 48.8 22.6 33.4 21.1 13.6\n",
      " 32.2 13.1 23.4 18.9 23.9 11.8 23.3 22.8 19.6 16.7 13.4 22.2 20.4 21.8\n",
      " 26.4 14.9 24.1 23.8 12.3 29.1 21.  19.5 23.3 23.8 17.8 11.5 21.7 19.9\n",
      " 25.  33.4 28.5 21.4 24.3 27.5 33.1 16.2 23.3 48.3 22.9 22.8 13.1 12.7\n",
      " 22.6 15.  15.3 10.5 24.  18.5 21.7 19.5 33.2 23.2  5.  19.1 12.7 22.3\n",
      " 10.2 13.9 16.3 17.  20.1 29.9 17.2 37.3 45.4 17.8 23.2 29.  22.  18.\n",
      " 17.4 34.6 20.1 25.  15.6 24.8 28.2 21.2 21.4 23.8 31.  26.2 17.4 37.9\n",
      " 17.5 20.   8.3 23.9  8.4 13.8  7.2 11.7 17.1 21.6 50.  16.1 20.4 20.6\n",
      " 21.4 20.6 36.5  8.5 24.8 10.8 21.9 17.3 18.9 36.2 14.9 18.2 33.3 21.8\n",
      " 19.7 31.6 24.8 19.4 22.8  7.5 44.8 16.8 18.7 50.  50.  19.5 20.1 50.\n",
      " 17.2 20.8 19.3 41.3 20.4 20.5 13.8 16.5 23.9 20.6 31.5 23.3 16.8 14.\n",
      " 33.8 36.1 12.8 18.3 18.7 19.1 29.  30.1 50.  50.  22.  11.9 37.6 50.\n",
      " 22.7 20.8 23.5 27.9 50.  19.3 23.9 22.6 15.2 21.7 19.2 43.8 20.3 33.2\n",
      " 19.9 22.5 32.7 22.  17.1 19.  15.  16.1 25.1 23.7 28.7 37.2 22.6 16.4\n",
      " 25.  29.8 22.1 17.4 18.1 30.3 17.5 24.7 12.6 26.5 28.7 13.3 10.4 24.4\n",
      " 23.  20.  17.8  7.  11.8 24.4 13.8 19.4 25.2 19.4 19.4 29.1]\n"
     ]
    }
   ],
   "source": [
    "print(train_targets) # These are the median house prices in thousand dollars"
   ]
  },
  {
   "cell_type": "code",
   "execution_count": 6,
   "metadata": {},
   "outputs": [],
   "source": [
    "mean = train_data.mean(axis=0)"
   ]
  },
  {
   "cell_type": "code",
   "execution_count": 7,
   "metadata": {},
   "outputs": [
    {
     "data": {
      "text/plain": [
       "[<matplotlib.lines.Line2D at 0x7fa34d7e5650>]"
      ]
     },
     "execution_count": 7,
     "metadata": {},
     "output_type": "execute_result"
    },
    {
     "data": {
      "image/png": "[encoded data removed]",
      "text/plain": [
       "<Figure size 432x288 with 1 Axes>"
      ]
     },
     "metadata": {
      "needs_background": "light"
     },
     "output_type": "display_data"
    }
   ],
   "source": [
    "plt.plot(mean)"
   ]
  },
  {
   "cell_type": "code",
   "execution_count": 8,
   "metadata": {},
   "outputs": [
    {
     "data": {
      "text/plain": [
       "[<matplotlib.lines.Line2D at 0x7fa34d703f90>]"
      ]
     },
     "execution_count": 8,
     "metadata": {},
     "output_type": "execute_result"
    },
    {
     "data": {
      "image/png": "[encoded data removed]",
      "text/plain": [
       "<Figure size 432x288 with 1 Axes>"
      ]
     },
     "metadata": {
      "needs_background": "light"
     },
     "output_type": "display_data"
    }
   ],
   "source": [
    "std = train_data.std(axis=0)\n",
    "plt.plot(std)"
   ]
  },
  {
   "cell_type": "markdown",
   "metadata": {},
   "source": [
    "Standardize training and test data."
   ]
  },
  {
   "cell_type": "code",
   "execution_count": 9,
   "metadata": {},
   "outputs": [],
   "source": [
    "train_data -= mean\n",
    "train_data /= std"
   ]
  },
  {
   "cell_type": "code",
   "execution_count": 10,
   "metadata": {},
   "outputs": [],
   "source": [
    "test_data -= mean\n",
    "test_data /= std"
   ]
  },
  {
   "cell_type": "markdown",
   "metadata": {},
   "source": [
    "It is important to use on the test data also the mean and std computed on the training data, to prevent any information about the test data leaking into the workflow."
   ]
  },
  {
   "cell_type": "code",
   "execution_count": 11,
   "metadata": {},
   "outputs": [
    {
     "data": {
      "text/plain": [
       "array([-1.01541438e-16,  1.09923072e-17,  1.74337992e-15, -1.26686340e-16,\n",
       "       -5.25377321e-15,  6.41414864e-15,  2.98441140e-16,  4.94653823e-16,\n",
       "        1.12671149e-17, -1.98136337e-16,  2.36686358e-14,  5.95679996e-15,\n",
       "        6.13920356e-16])"
      ]
     },
     "execution_count": 11,
     "metadata": {},
     "output_type": "execute_result"
    }
   ],
   "source": [
    "train_data.mean(axis=0)"
   ]
  },
  {
   "cell_type": "markdown",
   "metadata": {},
   "source": [
    "Let's write a function to build the model, in case we need to instantiate it several times."
   ]
  },
  {
   "cell_type": "code",
   "execution_count": 16,
   "metadata": {},
   "outputs": [],
   "source": [
    "def build_model():\n",
    "    model = models.Sequential()\n",
    "    model.add(layers.Dense(64, activation='relu', input_shape=(train_data.shape[1],)))\n",
    "    model.add(layers.Dense(64, activation='relu'))\n",
    "    model.add(layers.Dense(1))\n",
    "    model.compile(optimizer='rmsprop', loss='mse', metrics=['mae'])\n",
    "    return model"
   ]
  },
  {
   "cell_type": "code",
   "execution_count": 17,
   "metadata": {},
   "outputs": [],
   "source": [
    "val_data = train_data[300:]\n",
    "val_targets = train_targets[300:]\n",
    "\n",
    "partial_train_data = train_data[:300]\n",
    "partial_train_targets = train_targets[:300]"
   ]
  },
  {
   "cell_type": "code",
   "execution_count": 18,
   "metadata": {},
   "outputs": [],
   "source": [
    "model = build_model()"
   ]
  },
  {
   "cell_type": "code",
   "execution_count": 19,
   "metadata": {},
   "outputs": [
    {
     "name": "stdout",
     "output_type": "stream",
     "text": [
      "Train on 300 samples, validate on 104 samples\n",
      "Epoch 1/80\n",
      "300/300 [==============================] - 0s 2ms/sample - loss: 514.9888 - mae: 20.9390 - val_loss: 594.1194 - val_mae: 22.3434\n",
      "Epoch 2/80\n",
      "300/300 [==============================] - 0s 71us/sample - loss: 450.2511 - mae: 19.3390 - val_loss: 521.5489 - val_mae: 20.7242\n",
      "Epoch 3/80\n",
      "300/300 [==============================] - 0s 70us/sample - loss: 383.8898 - mae: 17.6328 - val_loss: 437.3231 - val_mae: 18.7079\n",
      "Epoch 4/80\n",
      "300/300 [==============================] - 0s 69us/sample - loss: 311.3035 - mae: 15.5474 - val_loss: 352.0904 - val_mae: 16.4242\n",
      "Epoch 5/80\n",
      "300/300 [==============================] - 0s 71us/sample - loss: 238.9504 - mae: 13.2796 - val_loss: 268.9749 - val_mae: 13.8192\n",
      "Epoch 6/80\n",
      "300/300 [==============================] - 0s 76us/sample - loss: 171.7004 - mae: 10.8908 - val_loss: 194.9610 - val_mae: 11.0843\n",
      "Epoch 7/80\n",
      "300/300 [==============================] - 0s 78us/sample - loss: 117.2540 - mae: 8.6429 - val_loss: 138.5070 - val_mae: 8.8052\n",
      "Epoch 8/80\n",
      "300/300 [==============================] - 0s 82us/sample - loss: 80.0189 - mae: 6.9288 - val_loss: 100.3105 - val_mae: 7.3691\n",
      "Epoch 9/80\n",
      "300/300 [==============================] - 0s 85us/sample - loss: 58.4992 - mae: 5.7648 - val_loss: 79.8689 - val_mae: 6.5083\n",
      "Epoch 10/80\n",
      "300/300 [==============================] - 0s 90us/sample - loss: 47.0235 - mae: 5.1158 - val_loss: 65.4479 - val_mae: 5.8554\n",
      "Epoch 11/80\n",
      "300/300 [==============================] - 0s 98us/sample - loss: 38.7542 - mae: 4.6120 - val_loss: 52.7185 - val_mae: 5.1917\n",
      "Epoch 12/80\n",
      "300/300 [==============================] - 0s 96us/sample - loss: 32.6172 - mae: 4.2136 - val_loss: 45.7347 - val_mae: 4.7442\n",
      "Epoch 13/80\n",
      "300/300 [==============================] - 0s 125us/sample - loss: 28.5949 - mae: 3.8787 - val_loss: 39.0235 - val_mae: 4.3268\n",
      "Epoch 14/80\n",
      "300/300 [==============================] - 0s 147us/sample - loss: 25.5238 - mae: 3.6552 - val_loss: 35.3630 - val_mae: 4.1251\n",
      "Epoch 15/80\n",
      "300/300 [==============================] - 0s 143us/sample - loss: 22.9455 - mae: 3.3931 - val_loss: 31.3688 - val_mae: 3.9078\n",
      "Epoch 16/80\n",
      "300/300 [==============================] - 0s 154us/sample - loss: 21.3932 - mae: 3.2566 - val_loss: 28.1940 - val_mae: 3.6525\n",
      "Epoch 17/80\n",
      "300/300 [==============================] - 0s 144us/sample - loss: 19.6760 - mae: 3.1661 - val_loss: 27.8767 - val_mae: 3.6424\n",
      "Epoch 18/80\n",
      "300/300 [==============================] - 0s 145us/sample - loss: 18.5987 - mae: 3.0325 - val_loss: 27.3582 - val_mae: 3.4935\n",
      "Epoch 19/80\n",
      "300/300 [==============================] - 0s 152us/sample - loss: 17.6950 - mae: 2.9176 - val_loss: 24.0076 - val_mae: 3.3722\n",
      "Epoch 20/80\n",
      "300/300 [==============================] - 0s 148us/sample - loss: 16.7138 - mae: 2.8778 - val_loss: 23.2866 - val_mae: 3.2646\n",
      "Epoch 21/80\n",
      "300/300 [==============================] - 0s 155us/sample - loss: 16.0607 - mae: 2.7870 - val_loss: 22.0586 - val_mae: 3.1608\n",
      "Epoch 22/80\n",
      "300/300 [==============================] - 0s 149us/sample - loss: 15.4777 - mae: 2.7411 - val_loss: 20.9634 - val_mae: 3.1194\n",
      "Epoch 23/80\n",
      "300/300 [==============================] - 0s 151us/sample - loss: 14.7296 - mae: 2.6604 - val_loss: 19.5951 - val_mae: 3.0189\n",
      "Epoch 24/80\n",
      "300/300 [==============================] - 0s 150us/sample - loss: 14.0691 - mae: 2.5923 - val_loss: 19.5165 - val_mae: 3.0406\n",
      "Epoch 25/80\n",
      "300/300 [==============================] - 0s 156us/sample - loss: 13.5166 - mae: 2.5397 - val_loss: 17.9530 - val_mae: 2.8900\n",
      "Epoch 26/80\n",
      "300/300 [==============================] - 0s 145us/sample - loss: 13.2988 - mae: 2.5154 - val_loss: 17.3853 - val_mae: 2.8769\n",
      "Epoch 27/80\n",
      "300/300 [==============================] - 0s 141us/sample - loss: 12.8543 - mae: 2.5089 - val_loss: 17.1395 - val_mae: 2.8133\n",
      "Epoch 28/80\n",
      "300/300 [==============================] - 0s 151us/sample - loss: 12.4341 - mae: 2.4346 - val_loss: 17.6039 - val_mae: 2.8499\n",
      "Epoch 29/80\n",
      "300/300 [==============================] - 0s 152us/sample - loss: 12.2282 - mae: 2.4276 - val_loss: 16.3172 - val_mae: 2.7644\n",
      "Epoch 30/80\n",
      "300/300 [==============================] - 0s 150us/sample - loss: 11.7616 - mae: 2.3903 - val_loss: 16.1505 - val_mae: 2.7450\n",
      "Epoch 31/80\n",
      "300/300 [==============================] - 0s 152us/sample - loss: 11.8182 - mae: 2.4144 - val_loss: 15.8333 - val_mae: 2.7082\n",
      "Epoch 32/80\n",
      "300/300 [==============================] - 0s 146us/sample - loss: 11.2984 - mae: 2.3633 - val_loss: 14.3773 - val_mae: 2.5880\n",
      "Epoch 33/80\n",
      "300/300 [==============================] - 0s 126us/sample - loss: 11.1265 - mae: 2.3312 - val_loss: 13.8200 - val_mae: 2.5639\n",
      "Epoch 34/80\n",
      "300/300 [==============================] - 0s 125us/sample - loss: 10.7309 - mae: 2.2882 - val_loss: 14.1261 - val_mae: 2.6218\n",
      "Epoch 35/80\n",
      "300/300 [==============================] - 0s 126us/sample - loss: 10.5671 - mae: 2.3158 - val_loss: 15.3049 - val_mae: 2.7407\n",
      "Epoch 36/80\n",
      "300/300 [==============================] - 0s 126us/sample - loss: 10.5977 - mae: 2.2797 - val_loss: 13.7188 - val_mae: 2.5883\n",
      "Epoch 37/80\n",
      "300/300 [==============================] - 0s 113us/sample - loss: 10.2644 - mae: 2.2239 - val_loss: 13.1720 - val_mae: 2.5424\n",
      "Epoch 38/80\n",
      "300/300 [==============================] - 0s 69us/sample - loss: 10.1907 - mae: 2.2811 - val_loss: 12.9164 - val_mae: 2.5260\n",
      "Epoch 39/80\n",
      "300/300 [==============================] - 0s 67us/sample - loss: 9.9791 - mae: 2.2855 - val_loss: 12.9370 - val_mae: 2.5373\n",
      "Epoch 40/80\n",
      "300/300 [==============================] - 0s 65us/sample - loss: 9.9021 - mae: 2.1904 - val_loss: 13.5708 - val_mae: 2.5643\n",
      "Epoch 41/80\n",
      "300/300 [==============================] - 0s 67us/sample - loss: 9.8979 - mae: 2.1991 - val_loss: 12.4281 - val_mae: 2.4468\n",
      "Epoch 42/80\n",
      "300/300 [==============================] - 0s 67us/sample - loss: 9.7911 - mae: 2.2135 - val_loss: 12.6718 - val_mae: 2.4607\n",
      "Epoch 43/80\n",
      "300/300 [==============================] - 0s 67us/sample - loss: 9.5629 - mae: 2.1559 - val_loss: 13.1431 - val_mae: 2.5302\n",
      "Epoch 44/80\n",
      "300/300 [==============================] - 0s 67us/sample - loss: 9.5586 - mae: 2.1576 - val_loss: 11.8791 - val_mae: 2.4045\n",
      "Epoch 45/80\n",
      "300/300 [==============================] - 0s 68us/sample - loss: 9.2414 - mae: 2.1359 - val_loss: 11.9975 - val_mae: 2.4810\n",
      "Epoch 46/80\n",
      "300/300 [==============================] - 0s 70us/sample - loss: 9.0939 - mae: 2.1222 - val_loss: 11.5895 - val_mae: 2.4062\n",
      "Epoch 47/80\n",
      "300/300 [==============================] - 0s 74us/sample - loss: 9.0489 - mae: 2.1277 - val_loss: 12.3228 - val_mae: 2.4622\n",
      "Epoch 48/80\n",
      "300/300 [==============================] - 0s 75us/sample - loss: 9.0615 - mae: 2.1007 - val_loss: 11.4029 - val_mae: 2.4137\n",
      "Epoch 49/80\n",
      "300/300 [==============================] - 0s 85us/sample - loss: 9.1026 - mae: 2.1289 - val_loss: 11.5910 - val_mae: 2.3894\n",
      "Epoch 50/80\n",
      "300/300 [==============================] - 0s 102us/sample - loss: 8.7334 - mae: 2.0567 - val_loss: 11.1820 - val_mae: 2.3382\n",
      "Epoch 51/80\n",
      "300/300 [==============================] - 0s 107us/sample - loss: 8.9569 - mae: 2.0641 - val_loss: 11.6227 - val_mae: 2.3797\n",
      "Epoch 52/80\n",
      "300/300 [==============================] - 0s 111us/sample - loss: 8.7044 - mae: 2.0435 - val_loss: 11.7440 - val_mae: 2.4067\n",
      "Epoch 53/80\n",
      "300/300 [==============================] - 0s 109us/sample - loss: 8.6069 - mae: 2.0626 - val_loss: 11.9675 - val_mae: 2.4401\n",
      "Epoch 54/80\n",
      "300/300 [==============================] - 0s 110us/sample - loss: 8.5780 - mae: 2.0342 - val_loss: 11.5542 - val_mae: 2.3823\n",
      "Epoch 55/80\n",
      "300/300 [==============================] - 0s 117us/sample - loss: 8.5566 - mae: 2.0313 - val_loss: 11.5080 - val_mae: 2.3878\n",
      "Epoch 56/80\n",
      "300/300 [==============================] - 0s 110us/sample - loss: 8.4712 - mae: 2.0321 - val_loss: 10.7831 - val_mae: 2.3337\n",
      "Epoch 57/80\n",
      "300/300 [==============================] - 0s 130us/sample - loss: 8.1445 - mae: 2.0632 - val_loss: 10.9522 - val_mae: 2.3407\n",
      "Epoch 58/80\n",
      "300/300 [==============================] - 0s 130us/sample - loss: 8.0380 - mae: 1.9947 - val_loss: 11.4463 - val_mae: 2.5099\n",
      "Epoch 59/80\n",
      "300/300 [==============================] - 0s 126us/sample - loss: 8.0745 - mae: 2.0027 - val_loss: 11.5824 - val_mae: 2.5030\n",
      "Epoch 60/80\n",
      "300/300 [==============================] - 0s 122us/sample - loss: 8.1221 - mae: 2.0114 - val_loss: 11.2169 - val_mae: 2.4410\n",
      "Epoch 61/80\n",
      "300/300 [==============================] - 0s 131us/sample - loss: 7.9066 - mae: 1.9634 - val_loss: 11.4044 - val_mae: 2.4024\n",
      "Epoch 62/80\n",
      "300/300 [==============================] - 0s 125us/sample - loss: 7.9431 - mae: 1.9642 - val_loss: 11.1411 - val_mae: 2.3523\n",
      "Epoch 63/80\n",
      "300/300 [==============================] - 0s 128us/sample - loss: 8.2919 - mae: 1.9876 - val_loss: 10.7700 - val_mae: 2.3352\n",
      "Epoch 64/80\n",
      "300/300 [==============================] - 0s 124us/sample - loss: 7.8158 - mae: 1.9847 - val_loss: 11.1152 - val_mae: 2.4146\n",
      "Epoch 65/80\n",
      "300/300 [==============================] - 0s 132us/sample - loss: 7.6707 - mae: 1.9532 - val_loss: 11.5808 - val_mae: 2.4902\n",
      "Epoch 66/80\n",
      "300/300 [==============================] - 0s 128us/sample - loss: 7.7229 - mae: 1.9311 - val_loss: 10.7983 - val_mae: 2.3173\n",
      "Epoch 67/80\n",
      "300/300 [==============================] - 0s 126us/sample - loss: 7.5832 - mae: 1.9521 - val_loss: 10.9124 - val_mae: 2.3315\n",
      "Epoch 68/80\n",
      "300/300 [==============================] - 0s 134us/sample - loss: 7.5088 - mae: 1.9026 - val_loss: 11.0538 - val_mae: 2.3835\n",
      "Epoch 69/80\n",
      "300/300 [==============================] - 0s 136us/sample - loss: 7.9973 - mae: 2.0186 - val_loss: 10.4774 - val_mae: 2.2908\n",
      "Epoch 70/80\n",
      "300/300 [==============================] - 0s 126us/sample - loss: 7.5132 - mae: 1.9088 - val_loss: 11.2112 - val_mae: 2.4242\n",
      "Epoch 71/80\n",
      "300/300 [==============================] - 0s 128us/sample - loss: 7.2677 - mae: 1.8568 - val_loss: 10.2395 - val_mae: 2.2749\n",
      "Epoch 72/80\n",
      "300/300 [==============================] - 0s 124us/sample - loss: 7.6443 - mae: 1.9318 - val_loss: 10.2895 - val_mae: 2.2652\n",
      "Epoch 73/80\n",
      "300/300 [==============================] - 0s 129us/sample - loss: 7.3592 - mae: 1.9093 - val_loss: 10.7078 - val_mae: 2.3258\n",
      "Epoch 74/80\n",
      "300/300 [==============================] - 0s 133us/sample - loss: 7.1704 - mae: 1.8500 - val_loss: 11.2654 - val_mae: 2.4983\n",
      "Epoch 75/80\n",
      "300/300 [==============================] - 0s 150us/sample - loss: 7.3953 - mae: 1.9078 - val_loss: 10.4612 - val_mae: 2.3199\n",
      "Epoch 76/80\n",
      "300/300 [==============================] - 0s 148us/sample - loss: 7.3041 - mae: 1.8711 - val_loss: 10.4294 - val_mae: 2.3106\n",
      "Epoch 77/80\n",
      "300/300 [==============================] - 0s 140us/sample - loss: 7.1419 - mae: 1.8607 - val_loss: 10.3331 - val_mae: 2.2870\n",
      "Epoch 78/80\n",
      "300/300 [==============================] - 0s 148us/sample - loss: 7.1253 - mae: 1.8479 - val_loss: 10.4578 - val_mae: 2.3081\n",
      "Epoch 79/80\n",
      "300/300 [==============================] - 0s 149us/sample - loss: 7.0518 - mae: 1.8805 - val_loss: 10.9695 - val_mae: 2.4472\n",
      "Epoch 80/80\n",
      "300/300 [==============================] - 0s 147us/sample - loss: 7.0747 - mae: 1.8273 - val_loss: 11.3537 - val_mae: 2.4242\n"
     ]
    }
   ],
   "source": [
    "history = model.fit(partial_train_data, partial_train_targets, epochs=80, batch_size=32, validation_data=(val_data, val_targets))"
   ]
  },
  {
   "cell_type": "code",
   "execution_count": 20,
   "metadata": {},
   "outputs": [
    {
     "data": {
      "text/plain": [
       "<matplotlib.legend.Legend at 0x7fa34c0e10d0>"
      ]
     },
     "execution_count": 20,
     "metadata": {},
     "output_type": "execute_result"
    },
    {
     "data": {
      "image/png": "[encoded data removed]",
      "text/plain": [
       "<Figure size 432x288 with 1 Axes>"
      ]
     },
     "metadata": {
      "needs_background": "light"
     },
     "output_type": "display_data"
    }
   ],
   "source": [
    "loss_values = history.history['loss']\n",
    "val_loss_values = history.history['val_loss']\n",
    "\n",
    "plt.plot(loss_values, label='Training loss')\n",
    "plt.plot(val_loss_values, label='Validation loss')\n",
    "plt.legend()"
   ]
  },
  {
   "cell_type": "code",
   "execution_count": 21,
   "metadata": {},
   "outputs": [
    {
     "name": "stdout",
     "output_type": "stream",
     "text": [
      "102/102 [==============================] - 0s 103us/sample - loss: 20.3707 - mae: 2.9687\n"
     ]
    }
   ],
   "source": [
    "mse, mae = model.evaluate(test_data, test_targets)"
   ]
  },
  {
   "cell_type": "code",
   "execution_count": 22,
   "metadata": {},
   "outputs": [
    {
     "data": {
      "text/plain": [
       "20.370676078048408"
      ]
     },
     "execution_count": 22,
     "metadata": {},
     "output_type": "execute_result"
    }
   ],
   "source": [
    "mse"
   ]
  },
  {
   "cell_type": "code",
   "execution_count": 23,
   "metadata": {},
   "outputs": [
    {
     "data": {
      "text/plain": [
       "2.9686842"
      ]
     },
     "execution_count": 23,
     "metadata": {},
     "output_type": "execute_result"
    }
   ],
   "source": [
    "mae"
   ]
  },
  {
   "cell_type": "code",
   "execution_count": null,
   "metadata": {},
   "outputs": [],
   "source": []
  }
 ],
 "metadata": {
  "kernelspec": {
   "display_name": "Python 3",
   "language": "python",
   "name": "python3"
  },
  "language_info": {
   "codemirror_mode": {
    "name": "ipython",
    "version": 3
   },
   "file_extension": ".py",
   "mimetype": "text/x-python",
   "name": "python",
   "nbconvert_exporter": "python",
   "pygments_lexer": "ipython3",
   "version": "3.7.3"
  }
 },
 "nbformat": 4,
 "nbformat_minor": 4
}