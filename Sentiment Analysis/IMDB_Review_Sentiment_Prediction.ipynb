{
 "cells": [
  {
   "cell_type": "markdown",
   "metadata": {},
   "source": [
    "# Deep Learning for IMDB Movie Recommendations"
   ]
  },
  {
   "cell_type": "code",
   "execution_count": 1,
   "metadata": {},
   "outputs": [],
   "source": [
    "from tensorflow.keras.datasets import imdb\n",
    "import matplotlib.pyplot as plt"
   ]
  },
  {
   "cell_type": "code",
   "execution_count": 2,
   "metadata": {},
   "outputs": [],
   "source": [
    "(train_data, train_labels), (test_data, test_labels) = imdb.load_data(num_words=10000)"
   ]
  },
  {
   "cell_type": "markdown",
   "metadata": {},
   "source": [
    "## Let's have a look at the data"
   ]
  },
  {
   "cell_type": "code",
   "execution_count": 3,
   "metadata": {},
   "outputs": [
    {
     "data": {
      "text/plain": [
       "numpy.ndarray"
      ]
     },
     "execution_count": 3,
     "metadata": {},
     "output_type": "execute_result"
    }
   ],
   "source": [
    "type(train_data)"
   ]
  },
  {
   "cell_type": "code",
   "execution_count": 4,
   "metadata": {},
   "outputs": [
    {
     "data": {
      "text/plain": [
       "(25000,)"
      ]
     },
     "execution_count": 4,
     "metadata": {},
     "output_type": "execute_result"
    }
   ],
   "source": [
    "train_data.shape"
   ]
  },
  {
   "cell_type": "code",
   "execution_count": 5,
   "metadata": {},
   "outputs": [
    {
     "data": {
      "text/plain": [
       "dtype('O')"
      ]
     },
     "execution_count": 5,
     "metadata": {},
     "output_type": "execute_result"
    }
   ],
   "source": [
    "train_data.dtype"
   ]
  },
  {
   "cell_type": "code",
   "execution_count": 6,
   "metadata": {},
   "outputs": [
    {
     "data": {
      "text/plain": [
       "list"
      ]
     },
     "execution_count": 6,
     "metadata": {},
     "output_type": "execute_result"
    }
   ],
   "source": [
    "type(train_data[0])"
   ]
  },
  {
   "cell_type": "code",
   "execution_count": 7,
   "metadata": {},
   "outputs": [
    {
     "name": "stdout",
     "output_type": "stream",
     "text": [
      "[1, 14, 22, 16, 43, 530, 973, 1622, 1385, 65, 458, 4468, 66, 3941, 4, 173, 36, 256, 5, 25, 100, 43, 838, 112, 50, 670, 2, 9, 35, 480, 284, 5, 150, 4, 172, 112, 167, 2, 336, 385, 39, 4, 172, 4536, 1111, 17, 546, 38, 13, 447, 4, 192, 50, 16, 6, 147, 2025, 19, 14, 22, 4, 1920, 4613, 469, 4, 22, 71, 87, 12, 16, 43, 530, 38, 76, 15, 13, 1247, 4, 22, 17, 515, 17, 12, 16, 626, 18, 2, 5, 62, 386, 12, 8, 316, 8, 106, 5, 4, 2223, 5244, 16, 480, 66, 3785, 33, 4, 130, 12, 16, 38, 619, 5, 25, 124, 51, 36, 135, 48, 25, 1415, 33, 6, 22, 12, 215, 28, 77, 52, 5, 14, 407, 16, 82, 2, 8, 4, 107, 117, 5952, 15, 256, 4, 2, 7, 3766, 5, 723, 36, 71, 43, 530, 476, 26, 400, 317, 46, 7, 4, 2, 1029, 13, 104, 88, 4, 381, 15, 297, 98, 32, 2071, 56, 26, 141, 6, 194, 7486, 18, 4, 226, 22, 21, 134, 476, 26, 480, 5, 144, 30, 5535, 18, 51, 36, 28, 224, 92, 25, 104, 4, 226, 65, 16, 38, 1334, 88, 12, 16, 283, 5, 16, 4472, 113, 103, 32, 15, 16, 5345, 19, 178, 32]\n"
     ]
    }
   ],
   "source": [
    "print(train_data[0])"
   ]
  },
  {
   "cell_type": "code",
   "execution_count": 8,
   "metadata": {},
   "outputs": [],
   "source": [
    "word_index = imdb.get_word_index()"
   ]
  },
  {
   "cell_type": "code",
   "execution_count": 9,
   "metadata": {},
   "outputs": [
    {
     "data": {
      "text/plain": [
       "313"
      ]
     },
     "execution_count": 9,
     "metadata": {},
     "output_type": "execute_result"
    }
   ],
   "source": [
    "word_index['everyone']"
   ]
  },
  {
   "cell_type": "markdown",
   "metadata": {},
   "source": [
    "## Let's build a Neural Network to predict the sentiment"
   ]
  },
  {
   "cell_type": "code",
   "execution_count": 10,
   "metadata": {},
   "outputs": [],
   "source": [
    "import numpy as np"
   ]
  },
  {
   "cell_type": "code",
   "execution_count": 11,
   "metadata": {},
   "outputs": [],
   "source": [
    "def vectorize_reviews(reviews, dictsize=10000):\n",
    "    results = np.zeros((len(reviews), dictsize))\n",
    "    for reviewindex, wordlist in enumerate(reviews):\n",
    "        for word in wordlist:\n",
    "            results[reviewindex, word] = 1.\n",
    "            \n",
    "    return results"
   ]
  },
  {
   "cell_type": "code",
   "execution_count": 12,
   "metadata": {},
   "outputs": [],
   "source": [
    "x_train = vectorize_reviews(train_data)\n",
    "x_test = vectorize_reviews(test_data)"
   ]
  },
  {
   "cell_type": "code",
   "execution_count": 13,
   "metadata": {},
   "outputs": [
    {
     "data": {
      "text/plain": [
       "array([0., 1., 1., ..., 0., 0., 0.])"
      ]
     },
     "execution_count": 13,
     "metadata": {},
     "output_type": "execute_result"
    }
   ],
   "source": [
    "x_train[0]"
   ]
  },
  {
   "cell_type": "code",
   "execution_count": 14,
   "metadata": {},
   "outputs": [],
   "source": [
    "y_train = np.asarray(train_labels).astype('float32')\n",
    "y_test = np.asarray(test_labels).astype('float32')"
   ]
  },
  {
   "cell_type": "code",
   "execution_count": 15,
   "metadata": {},
   "outputs": [],
   "source": [
    "from tensorflow.keras import models\n",
    "from tensorflow.keras import layers"
   ]
  },
  {
   "cell_type": "code",
   "execution_count": 16,
   "metadata": {},
   "outputs": [],
   "source": [
    "network = models.Sequential()\n",
    "network.add(layers.Dense(16, activation='relu', input_shape=(10000,)))\n",
    "network.add(layers.Dense(16, activation='relu'))\n",
    "network.add(layers.Dense(1, activation='sigmoid'))"
   ]
  },
  {
   "cell_type": "code",
   "execution_count": 17,
   "metadata": {},
   "outputs": [],
   "source": [
    "network.compile(optimizer='rmsprop', loss='binary_crossentropy', metrics=['accuracy'])"
   ]
  },
  {
   "cell_type": "code",
   "execution_count": 18,
   "metadata": {},
   "outputs": [],
   "source": [
    "x_validation = x_train[:10000]\n",
    "partial_x_train = x_train[10000:]\n",
    "y_validation = y_train[:10000]\n",
    "partial_y_train = y_train[10000:]"
   ]
  },
  {
   "cell_type": "code",
   "execution_count": 19,
   "metadata": {},
   "outputs": [
    {
     "name": "stdout",
     "output_type": "stream",
     "text": [
      "Train on 15000 samples, validate on 10000 samples\n",
      "Epoch 1/20\n",
      "15000/15000 [==============================] - 1s 94us/sample - loss: 0.4890 - accuracy: 0.7893 - val_loss: 0.3653 - val_accuracy: 0.8732\n",
      "Epoch 2/20\n",
      "15000/15000 [==============================] - 1s 38us/sample - loss: 0.2892 - accuracy: 0.9064 - val_loss: 0.3001 - val_accuracy: 0.8852\n",
      "Epoch 3/20\n",
      "15000/15000 [==============================] - 1s 38us/sample - loss: 0.2155 - accuracy: 0.9290 - val_loss: 0.2877 - val_accuracy: 0.8842\n",
      "Epoch 4/20\n",
      "15000/15000 [==============================] - 1s 39us/sample - loss: 0.1698 - accuracy: 0.9441 - val_loss: 0.2777 - val_accuracy: 0.8871\n",
      "Epoch 5/20\n",
      "15000/15000 [==============================] - 1s 40us/sample - loss: 0.1361 - accuracy: 0.9566 - val_loss: 0.2853 - val_accuracy: 0.8860\n",
      "Epoch 6/20\n",
      "15000/15000 [==============================] - 1s 38us/sample - loss: 0.1121 - accuracy: 0.9659 - val_loss: 0.3003 - val_accuracy: 0.8827\n",
      "Epoch 7/20\n",
      "15000/15000 [==============================] - 1s 38us/sample - loss: 0.0955 - accuracy: 0.9733 - val_loss: 0.3265 - val_accuracy: 0.8803\n",
      "Epoch 8/20\n",
      "15000/15000 [==============================] - 1s 37us/sample - loss: 0.0754 - accuracy: 0.9804 - val_loss: 0.3725 - val_accuracy: 0.8709\n",
      "Epoch 9/20\n",
      "15000/15000 [==============================] - 1s 37us/sample - loss: 0.0646 - accuracy: 0.9825 - val_loss: 0.3628 - val_accuracy: 0.8778\n",
      "Epoch 10/20\n",
      "15000/15000 [==============================] - 1s 47us/sample - loss: 0.0524 - accuracy: 0.9866 - val_loss: 0.3983 - val_accuracy: 0.8770\n",
      "Epoch 11/20\n",
      "15000/15000 [==============================] - 1s 38us/sample - loss: 0.0431 - accuracy: 0.9888 - val_loss: 0.4192 - val_accuracy: 0.8746\n",
      "Epoch 12/20\n",
      "15000/15000 [==============================] - 1s 40us/sample - loss: 0.0372 - accuracy: 0.9908 - val_loss: 0.4603 - val_accuracy: 0.8687\n",
      "Epoch 13/20\n",
      "15000/15000 [==============================] - 1s 39us/sample - loss: 0.0271 - accuracy: 0.9954 - val_loss: 0.4774 - val_accuracy: 0.8723\n",
      "Epoch 14/20\n",
      "15000/15000 [==============================] - 1s 38us/sample - loss: 0.0229 - accuracy: 0.9954 - val_loss: 0.5020 - val_accuracy: 0.8708\n",
      "Epoch 15/20\n",
      "15000/15000 [==============================] - 1s 38us/sample - loss: 0.0192 - accuracy: 0.9971 - val_loss: 0.5359 - val_accuracy: 0.8678\n",
      "Epoch 16/20\n",
      "15000/15000 [==============================] - 1s 38us/sample - loss: 0.0167 - accuracy: 0.9971 - val_loss: 0.5619 - val_accuracy: 0.8681\n",
      "Epoch 17/20\n",
      "15000/15000 [==============================] - 1s 40us/sample - loss: 0.0114 - accuracy: 0.9985 - val_loss: 0.5989 - val_accuracy: 0.8655\n",
      "Epoch 18/20\n",
      "15000/15000 [==============================] - 1s 40us/sample - loss: 0.0089 - accuracy: 0.9993 - val_loss: 0.6256 - val_accuracy: 0.8662\n",
      "Epoch 19/20\n",
      "15000/15000 [==============================] - 1s 47us/sample - loss: 0.0092 - accuracy: 0.9985 - val_loss: 0.6599 - val_accuracy: 0.8660\n",
      "Epoch 20/20\n",
      "15000/15000 [==============================] - 1s 37us/sample - loss: 0.0042 - accuracy: 0.9998 - val_loss: 0.7030 - val_accuracy: 0.8628\n"
     ]
    }
   ],
   "source": [
    "history = network.fit(partial_x_train, partial_y_train, epochs=20, batch_size=512, validation_data=(x_validation, y_validation))"
   ]
  },
  {
   "cell_type": "code",
   "execution_count": 20,
   "metadata": {},
   "outputs": [],
   "source": [
    "training_loss = history.history['loss']\n",
    "validation_loss = history.history['val_loss']"
   ]
  },
  {
   "cell_type": "code",
   "execution_count": 27,
   "metadata": {},
   "outputs": [
    {
     "data": {
      "text/plain": [
       "<matplotlib.legend.Legend at 0x7f4ea52eca50>"
      ]
     },
     "execution_count": 27,
     "metadata": {},
     "output_type": "execute_result"
    },
    {
     "data": {
      "image/png": "[encoded data removed]",
      "text/plain": [
       "<Figure size 432x288 with 1 Axes>"
      ]
     },
     "metadata": {
      "needs_background": "light"
     },
     "output_type": "display_data"
    }
   ],
   "source": [
    "epochs = range(1, len(training_loss) +1)\n",
    "plt.plot(epochs, training_loss, label='Training loss')\n",
    "plt.plot(epochs, validation_loss, label='Validation loss')\n",
    "plt.legend()"
   ]
  },
  {
   "cell_type": "code",
   "execution_count": 25,
   "metadata": {},
   "outputs": [
    {
     "name": "stdout",
     "output_type": "stream",
     "text": [
      "Model: \"sequential\"\n",
      "_________________________________________________________________\n",
      "Layer (type)                 Output Shape              Param #   \n",
      "=================================================================\n",
      "dense (Dense)                (None, 16)                160016    \n",
      "_________________________________________________________________\n",
      "dense_1 (Dense)              (None, 16)                272       \n",
      "_________________________________________________________________\n",
      "dense_2 (Dense)              (None, 1)                 17        \n",
      "=================================================================\n",
      "Total params: 160,305\n",
      "Trainable params: 160,305\n",
      "Non-trainable params: 0\n",
      "_________________________________________________________________\n"
     ]
    }
   ],
   "source": [
    "network.summary()"
   ]
  },
  {
   "cell_type": "code",
   "execution_count": 28,
   "metadata": {},
   "outputs": [
    {
     "name": "stdout",
     "output_type": "stream",
     "text": [
      "Train on 15000 samples, validate on 10000 samples\n",
      "Epoch 1/4\n",
      "15000/15000 [==============================] - 1s 96us/sample - loss: 0.4910 - accuracy: 0.7978 - val_loss: 0.3590 - val_accuracy: 0.8778\n",
      "Epoch 2/4\n",
      "15000/15000 [==============================] - 1s 43us/sample - loss: 0.2880 - accuracy: 0.9059 - val_loss: 0.2987 - val_accuracy: 0.8857\n",
      "Epoch 3/4\n",
      "15000/15000 [==============================] - 1s 44us/sample - loss: 0.2179 - accuracy: 0.9255 - val_loss: 0.2894 - val_accuracy: 0.8798\n",
      "Epoch 4/4\n",
      "15000/15000 [==============================] - 1s 41us/sample - loss: 0.1711 - accuracy: 0.9450 - val_loss: 0.2749 - val_accuracy: 0.8907\n"
     ]
    }
   ],
   "source": [
    "network = models.Sequential()\n",
    "network.add(layers.Dense(16, activation='relu', input_shape=(10000,)))\n",
    "network.add(layers.Dense(16, activation='relu'))\n",
    "network.add(layers.Dense(1, activation='sigmoid'))\n",
    "network.compile(optimizer='rmsprop', loss='binary_crossentropy', metrics=['accuracy'])\n",
    "history = network.fit(partial_x_train, partial_y_train, epochs=4, batch_size=512, validation_data=(x_validation, y_validation))"
   ]
  },
  {
   "cell_type": "code",
   "execution_count": null,
   "metadata": {},
   "outputs": [],
   "source": []
  }
 ],
 "metadata": {
  "kernelspec": {
   "display_name": "Python 3",
   "language": "python",
   "name": "python3"
  },
  "language_info": {
   "codemirror_mode": {
    "name": "ipython",
    "version": 3
   },
   "file_extension": ".py",
   "mimetype": "text/x-python",
   "name": "python",
   "nbconvert_exporter": "python",
   "pygments_lexer": "ipython3",
   "version": "3.7.3"
  }
 },
 "nbformat": 4,
 "nbformat_minor": 4
}